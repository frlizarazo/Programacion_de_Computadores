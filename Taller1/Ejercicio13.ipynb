{
 "cells": [
  {
   "cell_type": "code",
   "execution_count": 1,
   "metadata": {},
   "outputs": [
    {
     "name": "stdout",
     "output_type": "stream",
     "text": [
      "Digite el año inicial: 1200\n",
      "Digite el año final: 1000\n",
      "\n",
      "Ha ocurrido un error, los valores digitados no son validos\n"
     ]
    }
   ],
   "source": [
    "##13 Diseñar una funcion que pida dos años y diga cuantos años biciestos hay entre ambos, incluyendolos\n",
    "\n",
    "def años_biciestos():\n",
    "    '''Funcion que calcula el numero de años biciestos entre dos años que se introduzcan'''\n",
    "    \n",
    "    ##Se importa la libreria por si no se tenia antes\n",
    "    import numpy as np\n",
    "    \n",
    "    ##Condiciones iniciales\n",
    "    i=0\n",
    "    count=0\n",
    "    \n",
    "    ##Try en caso de que los valores no sean numeros\n",
    "    try:\n",
    "        ##Conversion de los parametros en caso sea necesario\n",
    "        y1=year1=int(input('Digite el año inicial: '))\n",
    "        y2=year2=int(input('Digite el año final: '))\n",
    "        if y1>y2:\n",
    "            Error=0/0\n",
    "        years=np.arange(y1,y2+1)\n",
    "        \n",
    "        ##Ciclo que cuenta los años\n",
    "        while i<len(years):\n",
    "            if (years[i]-y1)%4==0:\n",
    "                count+=1\n",
    "            i+=1\n",
    "\n",
    "        ##Salida de resultados\n",
    "        print('\\nEl numero de años biciestos entre ',y1,' y ',y2,' es: ',count)\n",
    "        \n",
    "    except:\n",
    "        print('\\nHa ocurrido un error, los valores digitados no son validos')\n",
    "\n",
    "##Prueba de la funcion\n",
    "años_biciestos()"
   ]
  },
  {
   "cell_type": "code",
   "execution_count": null,
   "metadata": {},
   "outputs": [],
   "source": []
  }
 ],
 "metadata": {
  "kernelspec": {
   "display_name": "Python 3",
   "language": "python",
   "name": "python3"
  },
  "language_info": {
   "codemirror_mode": {
    "name": "ipython",
    "version": 3
   },
   "file_extension": ".py",
   "mimetype": "text/x-python",
   "name": "python",
   "nbconvert_exporter": "python",
   "pygments_lexer": "ipython3",
   "version": "3.6.7"
  }
 },
 "nbformat": 4,
 "nbformat_minor": 2
}
