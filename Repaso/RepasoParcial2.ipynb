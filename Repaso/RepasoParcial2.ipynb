{
 "cells": [
  {
   "cell_type": "code",
   "execution_count": 1,
   "metadata": {},
   "outputs": [
    {
     "name": "stdout",
     "output_type": "stream",
     "text": [
      "Digite la cantidad de segundos que desea convertir: 12345\n",
      "12345 Segundos son 3 Horas, 25 Minutos, 45 Segundos\n"
     ]
    }
   ],
   "source": [
    "##Programa que convierte de segundos a horas, minutos y segundos\n",
    "\n",
    "##Entrada de numero\n",
    "Number=int(input(\"Digite la cantidad de segundos que desea convertir: \"))\n",
    "\n",
    "##conversion\n",
    "Hours=int(Number/3600)\n",
    "Minuts=int((Number%3600)/60)\n",
    "Seconds=(Number%3600)%60\n",
    "\n",
    "##salida\n",
    "print(f\"{Number} Segundos son {Hours} Horas, {Minuts} Minutos, {Seconds} Segundos\")"
   ]
  },
  {
   "cell_type": "code",
   "execution_count": 2,
   "metadata": {},
   "outputs": [
    {
     "name": "stdout",
     "output_type": "stream",
     "text": [
      "Digite el ancho del rectangulo: 4\n",
      "Digite la altura del rectangulo: 3\n",
      "El Area del rectangulo es 12.0, el Perimetro es 14.0, la Diagonal es 5.0\n"
     ]
    }
   ],
   "source": [
    "##Programa que calcula el area, el perimetro y la diagonal de un rectangulo con su alturay anchura\n",
    "\n",
    "##Entrada de datos\n",
    "Width=float(input(\"Digite el ancho del rectangulo: \"))\n",
    "Height=float(input(\"Digite la altura del rectangulo: \"))\n",
    "\n",
    "##Calculo de Area\n",
    "Area=Width*Height\n",
    "\n",
    "##Calculo de Perimetro\n",
    "Perimeter= 2*Width+2*Height\n",
    "\n",
    "##Calculo de la Diagonal\n",
    "Diagonal= ((Width)**2+(Height)**2)**0.5\n",
    "\n",
    "##Salida\n",
    "print(f\"El Area del rectangulo es {Area}, el Perimetro es {Perimeter}, la Diagonal es {Diagonal}\")\n"
   ]
  },
  {
   "cell_type": "code",
   "execution_count": 3,
   "metadata": {},
   "outputs": [
    {
     "name": "stdout",
     "output_type": "stream",
     "text": [
      "Digite su DNI sin letra: 19901130\n",
      "Su DNI con letra es 19901130N\n"
     ]
    }
   ],
   "source": [
    "##Programa que calcula la letra del DNI\n",
    "\n",
    "##Entrada de datos\n",
    "DNI=int(input(\"Digite su DNI sin letra: \"))\n",
    "\n",
    "##Calculo de la letra\n",
    "Remainder=DNI%23\n",
    "Letras=[\"T\",\"R\",\"W\",\"A\",\"G\",\"M\",\"Y\",\"F\",\"P\",\"D\",\"X\",\"B\",\"N\",\"J\",\"Z\",\"S\",\"Q\",\"V\",\"H\",\"L\",\"C\",\"K\",\"E\"]\n",
    "Letra=Letras[Remainder]\n",
    "    \n",
    "##Salida\n",
    "print(f\"Su DNI con letra es {DNI}{Letra}\")"
   ]
  },
  {
   "cell_type": "code",
   "execution_count": 4,
   "metadata": {},
   "outputs": [
    {
     "name": "stdout",
     "output_type": "stream",
     "text": [
      "Digite el primer numero entero: 3\n",
      "Digite el segundo numero entero: 12\n",
      "[3, 4, 5, 6, 7, 8, 9, 10, 11, 12]\n"
     ]
    }
   ],
   "source": [
    "##Programa que genera una lista de un valor a otro\n",
    "\n",
    "##Entrada de datos\n",
    "Valor1=int(input(\"Digite el primer numero entero: \"))\n",
    "Valor2=int(input(\"Digite el segundo numero entero: \"))\n",
    "Lista=[]\n",
    "\n",
    "##Condiciones\n",
    "\n",
    "##Cuando se ordena en orden decreciente\n",
    "if Valor1 > Valor2:\n",
    "    i=Valor1+1\n",
    "    while i>Valor2:\n",
    "        i-=1\n",
    "        Lista.append(i)\n",
    "        \n",
    "##Cuando se ordena en orden creciente\n",
    "else:\n",
    "    i=Valor1-1\n",
    "    while i<Valor2:\n",
    "        i+=1\n",
    "        Lista.append(i)\n",
    "\n",
    "\n",
    "##Salida\n",
    "print(Lista)"
   ]
  },
  {
   "cell_type": "code",
   "execution_count": null,
   "metadata": {},
   "outputs": [],
   "source": []
  }
 ],
 "metadata": {
  "kernelspec": {
   "display_name": "Python 3",
   "language": "python",
   "name": "python3"
  },
  "language_info": {
   "codemirror_mode": {
    "name": "ipython",
    "version": 3
   },
   "file_extension": ".py",
   "mimetype": "text/x-python",
   "name": "python",
   "nbconvert_exporter": "python",
   "pygments_lexer": "ipython3",
   "version": "3.6.7"
  }
 },
 "nbformat": 4,
 "nbformat_minor": 2
}
